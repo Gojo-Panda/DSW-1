{
 "cells": [
  {
   "cell_type": "code",
   "execution_count": 1,
   "metadata": {},
   "outputs": [],
   "source": [
    "import numpy as np\n",
    "import matplotlib.pyplot as plt"
   ]
  },
  {
   "cell_type": "markdown",
   "metadata": {},
   "source": [
    "Find the index of the 5th repetition of number 1 in x= np.array([1, 2, 1, 1, 3, 4, 3, 1, 1, 2, 1, 1, 2])."
   ]
  },
  {
   "cell_type": "code",
   "execution_count": 2,
   "metadata": {},
   "outputs": [
    {
     "name": "stdout",
     "output_type": "stream",
     "text": [
      "8\n"
     ]
    }
   ],
   "source": [
    "x = np.array([1, 2, 1, 1, 3, 4, 3, 1, 1, 2, 1, 1, 2])\n",
    "indices = np.where(x == 1)[0]\n",
    "fifth_index = indices[4]\n",
    "print(fifth_index)"
   ]
  },
  {
   "cell_type": "markdown",
   "metadata": {},
   "source": [
    "Compute the Euclidean distance between two arrays a = np.array([1,2,3]) b = np.array([4,5,6])."
   ]
  },
  {
   "cell_type": "code",
   "execution_count": 3,
   "metadata": {},
   "outputs": [
    {
     "name": "stdout",
     "output_type": "stream",
     "text": [
      "[3.87298335 4.58257569 5.19615242]\n"
     ]
    }
   ],
   "source": [
    "a = np.array([1,2,3]) \n",
    "b = np.array([4,5,6])\n",
    "z = a **2 - b ** 2\n",
    "ans = np.sqrt(np.abs(z))\n",
    "print(ans)"
   ]
  },
  {
   "cell_type": "markdown",
   "metadata": {},
   "source": [
    "3.  (a) Replace all odd numbers in the array with -1 without changing the array.\n",
    "    (b) From the array a, replace all values greater than 30 to 30 and less than 10 to 10."
   ]
  },
  {
   "cell_type": "code",
   "execution_count": 4,
   "metadata": {},
   "outputs": [
    {
     "name": "stdout",
     "output_type": "stream",
     "text": [
      "[-1  2 -1  4 -1  6 -1  8 -1 10 -1 12 -1 14 -1 16 -1 18 -1 20 -1 22 -1 24\n",
      " -1 26 -1 28 -1 30 -1 32 -1 34 -1 36 -1 38 -1 40 -1 42 -1 44 -1 46 -1 48\n",
      " -1 50 -1 52 -1 54 -1 56 -1 58 -1 60 -1 62 -1 64 -1 66 -1 68 -1 70 -1 72\n",
      " -1 74 -1 76 -1 78 -1 80 -1 82 -1 84 -1 86 -1 88 -1 90 -1 92 -1 94 -1 96\n",
      " -1 98 -1]\n"
     ]
    }
   ],
   "source": [
    "a3 = np.arange(1, 100)\n",
    "ans3a = np.where(a3 % 2 == 1, -1, a3)\n",
    "print(ans3a)"
   ]
  },
  {
   "cell_type": "code",
   "execution_count": 5,
   "metadata": {},
   "outputs": [
    {
     "name": "stdout",
     "output_type": "stream",
     "text": [
      "[10 10 10 10 10 10 10 10 10 10 11 12 13 14 15 16 17 18 19 20 21 22 23 24\n",
      " 25 26 27 28 29 30 30 30 30 30 30 30 30 30 30 30 30 30 30 30 30 30 30 30\n",
      " 30 30 30 30 30 30 30 30 30 30 30 30 30 30 30 30 30 30 30 30 30 30 30 30\n",
      " 30 30 30 30 30 30 30 30 30 30 30 30 30 30 30 30 30 30 30 30 30 30 30 30\n",
      " 30 30 30]\n"
     ]
    }
   ],
   "source": [
    "ans3b = np.where(a3 > 30, 30, np.where(a3 < 10, 10, a3))\n",
    "print(ans3b)"
   ]
  },
  {
   "cell_type": "markdown",
   "metadata": {},
   "source": [
    "Create a 4*4 matrix with entries from uniform distribution data in the interval 10 to 20. Normalize\n",
    "the matrix so that the minimum has a value of 0 and the maximum has a value of 1."
   ]
  },
  {
   "cell_type": "code",
   "execution_count": 6,
   "metadata": {},
   "outputs": [
    {
     "name": "stdout",
     "output_type": "stream",
     "text": [
      "[[19.60570693 14.71281981 13.96594214 15.03565971]\n",
      " [15.25307353 14.134015   11.81887971 11.09568926]\n",
      " [ 9.79440042 18.90740659 17.21350446 15.25582944]\n",
      " [11.19516055 14.79808642 19.82598331 18.03065325]]\n"
     ]
    }
   ],
   "source": [
    "a4 = np.random.uniform(10, 20, (4, 4))\n",
    "ans4 = np.random.normal(a4)\n",
    "print(ans4)"
   ]
  },
  {
   "cell_type": "markdown",
   "metadata": {},
   "source": [
    "Find the mean, median, and standard deviation of a 1-d array."
   ]
  },
  {
   "cell_type": "code",
   "execution_count": 7,
   "metadata": {},
   "outputs": [
    {
     "name": "stdout",
     "output_type": "stream",
     "text": [
      "5.0 5.0 2.581988897471611\n"
     ]
    }
   ],
   "source": [
    "a5 = np.arange(1, 10)\n",
    "ans51 = np.mean(a5)\n",
    "ans52 = np.median(a5)\n",
    "ans53 = np.std(a5)\n",
    "print(ans51, ans52, ans53)"
   ]
  },
  {
   "cell_type": "markdown",
   "metadata": {},
   "source": [
    "Get all items between 5 and 10 from a. Input: a= [2, 6, 1, 9, 10, 3, 27]."
   ]
  },
  {
   "cell_type": "code",
   "execution_count": 8,
   "metadata": {},
   "outputs": [
    {
     "name": "stdout",
     "output_type": "stream",
     "text": [
      "[6, 9, 10]\n"
     ]
    }
   ],
   "source": [
    "a = [2, 6, 1, 9, 10, 3, 27]\n",
    "result = [x for x in a if 5 <= x <= 10]\n",
    "print(result)"
   ]
  },
  {
   "cell_type": "markdown",
   "metadata": {},
   "source": [
    "Convert a 1D array to a 2D array with 2 rows."
   ]
  },
  {
   "cell_type": "code",
   "execution_count": 9,
   "metadata": {},
   "outputs": [
    {
     "name": "stdout",
     "output_type": "stream",
     "text": [
      "[[ 1  2  3  4  5]\n",
      " [ 6  7  8  9 10]]\n"
     ]
    }
   ],
   "source": [
    "a7 = np.arange(1, 11)\n",
    "ans7 = a7.reshape(2, 5)\n",
    "print(ans7)"
   ]
  },
  {
   "cell_type": "markdown",
   "metadata": {},
   "source": [
    "Find the most frequent values in an array of positive integers. The original array is [6 9 5 1 7 5 1 0 1\n",
    "5 5 0 8 9 0 7 0 7 6 5 1 1 9 5 3 8 7 9 6 3 4 5 9 7 2 7 0 2 2 6]"
   ]
  },
  {
   "cell_type": "code",
   "execution_count": 10,
   "metadata": {},
   "outputs": [
    {
     "name": "stdout",
     "output_type": "stream",
     "text": [
      "5.0\n"
     ]
    }
   ],
   "source": [
    "a9 = np.array([6, 9, 5, 1, 7, 5, 1, 0, 1, 5, 5, 0, 8, 9, 0, 7, 0, 7, 6, 5, 1, 1, 9, 5, 3, 8, 7, 9, 6, 3, 4, 5, 9, 7, 2, 7, 0, 2, 2, 6])\n",
    "ans9 = np.median(a9)\n",
    "print(ans9)"
   ]
  },
  {
   "cell_type": "markdown",
   "metadata": {},
   "source": [
    " Create a symmetric matrix of order 4*4, whose items are taken from a standard normal distribution"
   ]
  },
  {
   "cell_type": "code",
   "execution_count": 11,
   "metadata": {},
   "outputs": [
    {
     "name": "stdout",
     "output_type": "stream",
     "text": [
      "[[-0.76238141  0.88977752 -0.18637477  0.37329239]\n",
      " [ 0.88977752 -0.94643965  0.19215739 -0.53410981]\n",
      " [-0.18637477  0.19215739  0.12014671 -0.02214509]\n",
      " [ 0.37329239 -0.53410981 -0.02214509  0.05506983]]\n"
     ]
    }
   ],
   "source": [
    "a10 = np.array(np.random.normal(size = (4, 4)))\n",
    "a101 = (a10 + a10.T) / 2\n",
    "print(a101)"
   ]
  },
  {
   "cell_type": "markdown",
   "metadata": {},
   "source": [
    "In a cricket match, a batsman scores any one of {1, 2, 3, 4, 6, 0}. When he scores 0, it will be considered as ”OUT”. If he will face 50 balls maximum, then find the score that he will make before getting\n",
    "”OUT”. Draw the plot of the run scored by the batsman."
   ]
  },
  {
   "cell_type": "code",
   "execution_count": 12,
   "metadata": {},
   "outputs": [
    {
     "data": {
      "image/png": "[encoded data removed]",
      "text/plain": [
       "<Figure size 640x480 with 1 Axes>"
      ]
     },
     "metadata": {},
     "output_type": "display_data"
    },
    {
     "name": "stdout",
     "output_type": "stream",
     "text": [
      "Total Score: 6\n"
     ]
    }
   ],
   "source": [
    "import numpy as np\n",
    "import matplotlib.pyplot as plt\n",
    "scores = [1, 2, 3, 4, 6, 0]\n",
    "runs = []\n",
    "balls_faced = 0\n",
    "while balls_faced < 50:\n",
    "    run = np.random.choice(scores)\n",
    "    runs.append(run)\n",
    "    balls_faced += 1\n",
    "    if run == 0:\n",
    "        break\n",
    "plt.plot(range(1, len(runs) + 1), runs)\n",
    "plt.xlabel('Balls Faced')\n",
    "plt.ylabel('Runs Scored')\n",
    "plt.title('Runs Scored by the Batsman')\n",
    "plt.show()\n",
    "total_score = sum(runs)\n",
    "print(\"Total Score:\", total_score)\n",
    "\n"
   ]
  },
  {
   "cell_type": "markdown",
   "metadata": {},
   "source": [
    "Compute the cross product of two 3*3 matrices."
   ]
  },
  {
   "cell_type": "code",
   "execution_count": 13,
   "metadata": {},
   "outputs": [
    {
     "data": {
      "text/plain": [
       "array([[ 11,  24,  39],\n",
       "       [ 56,  75,  96],\n",
       "       [119, 144, 171]])"
      ]
     },
     "execution_count": 13,
     "metadata": {},
     "output_type": "execute_result"
    }
   ],
   "source": [
    "a12 = np.arange(1, 10).reshape(3, 3)\n",
    "a121 = np.arange(11, 20).reshape(3, 3)\n",
    "a12 * a121"
   ]
  },
  {
   "cell_type": "markdown",
   "metadata": {},
   "source": [
    "Write a NumPy program to sort the student id with increasing height of the students from the given\n",
    "student id and height. Print the integer indices that describe the sort order by multiple columns and\n",
    "the sorted data."
   ]
  },
  {
   "cell_type": "code",
   "execution_count": 14,
   "metadata": {},
   "outputs": [
    {
     "name": "stdout",
     "output_type": "stream",
     "text": [
      "Sorted Student IDs: [103 101 102 105 104]\n",
      "Sorted Heights: [155 165 170 175 180]\n"
     ]
    }
   ],
   "source": [
    "student_ids = np.array([101, 102, 103, 104, 105])\n",
    "heights = np.array([165, 170, 155, 180, 175])\n",
    "sort_indices = np.lexsort((student_ids, heights))\n",
    "sorted_student_ids = student_ids[sort_indices]\n",
    "sorted_heights = heights[sort_indices]\n",
    "print(\"Sorted Student IDs:\", sorted_student_ids)\n",
    "print(\"Sorted Heights:\", sorted_heights)\n"
   ]
  },
  {
   "cell_type": "markdown",
   "metadata": {},
   "source": [
    "Return array of odd rows and even columns from below numpy array :\n",
    "x= np.array([[3, 6, 9, 12], [15, 18, 21, 24], [27, 30, 33, 36], [39, 42, 45, 48], [51, 54, 57, 60]])"
   ]
  },
  {
   "cell_type": "code",
   "execution_count": 15,
   "metadata": {},
   "outputs": [
    {
     "name": "stdout",
     "output_type": "stream",
     "text": [
      "[[ 6 12]\n",
      " [30 36]\n",
      " [54 60]]\n"
     ]
    }
   ],
   "source": [
    "x = np.array([[3, 6, 9, 12], [15, 18, 21, 24], [27, 30, 33, 36], [39, 42, 45, 48], [51, 54, 57, 60]])\n",
    "result = x[::2, 1::2]\n",
    "print(result)"
   ]
  },
  {
   "cell_type": "markdown",
   "metadata": {},
   "source": [
    "Calculate the sum of all rows and columns of a 2-D NumPy array"
   ]
  },
  {
   "cell_type": "code",
   "execution_count": 16,
   "metadata": {},
   "outputs": [
    {
     "name": "stdout",
     "output_type": "stream",
     "text": [
      "171\n"
     ]
    }
   ],
   "source": [
    "a15 = np.arange(1, 19).reshape(2, 9)\n",
    "ans15 = np.sum(a15)\n",
    "print(ans15)"
   ]
  },
  {
   "cell_type": "markdown",
   "metadata": {},
   "source": [
    "Write a code to multiply a 5x3 matrix by a 3x2 matrix and create a real matrix product."
   ]
  },
  {
   "cell_type": "code",
   "execution_count": 17,
   "metadata": {},
   "outputs": [
    {
     "name": "stdout",
     "output_type": "stream",
     "text": [
      "[[ 22  28]\n",
      " [ 49  64]\n",
      " [ 76 100]\n",
      " [103 136]\n",
      " [130 172]]\n"
     ]
    }
   ],
   "source": [
    "a16 = np.arange(1, 16).reshape(5, 3)\n",
    "a161 = np.arange(1, 7).reshape(3, 2)\n",
    "ans16 = a16 @ a161\n",
    "print(ans16)"
   ]
  },
  {
   "cell_type": "markdown",
   "metadata": {},
   "source": [
    "Write a code to find the roots of the polynomials x\n",
    "2 − 4x + 7 = 0"
   ]
  },
  {
   "cell_type": "code",
   "execution_count": 18,
   "metadata": {},
   "outputs": [
    {
     "name": "stdout",
     "output_type": "stream",
     "text": [
      "[2.+1.73205081j 2.-1.73205081j]\n"
     ]
    }
   ],
   "source": [
    "coefficients = [1, -4, 7]\n",
    "roots = np.roots(coefficients)\n",
    "print(roots)"
   ]
  },
  {
   "cell_type": "markdown",
   "metadata": {},
   "source": [
    "Write a code to create a 5x5 array with random values and normalize it row-wise"
   ]
  },
  {
   "cell_type": "code",
   "execution_count": 19,
   "metadata": {},
   "outputs": [
    {
     "name": "stdout",
     "output_type": "stream",
     "text": [
      "[[0.32696394 0.23277542 0.12126568 0.23572721 0.08326774]\n",
      " [0.169045   0.17820847 0.30857908 0.31031009 0.03385736]\n",
      " [0.30965093 0.13456043 0.12731672 0.32783253 0.10063939]\n",
      " [0.24487035 0.0485387  0.16083279 0.26131112 0.28444704]\n",
      " [0.2962318  0.0924407  0.09882223 0.27250708 0.2399982 ]]\n"
     ]
    }
   ],
   "source": [
    "arr = np.random.rand(5, 5)\n",
    "normalized_arr = arr / arr.sum(axis=1, keepdims=True)\n",
    "print(normalized_arr)"
   ]
  },
  {
   "cell_type": "markdown",
   "metadata": {},
   "source": [
    "Write a NumPy program to create a 9*9*2 array with random values and extract any array of shape\n",
    "(5,5,2) from the said array."
   ]
  },
  {
   "cell_type": "code",
   "execution_count": 20,
   "metadata": {},
   "outputs": [
    {
     "name": "stdout",
     "output_type": "stream",
     "text": [
      "[[[0.61075207 0.78774177]\n",
      "  [0.8425621  0.7627191 ]\n",
      "  [0.35070644 0.29146598]\n",
      "  [0.6665293  0.5076657 ]\n",
      "  [0.17222834 0.89844335]]\n",
      "\n",
      " [[0.31983618 0.78662963]\n",
      "  [0.23665316 0.08908961]\n",
      "  [0.66402929 0.92466314]\n",
      "  [0.16624231 0.16545707]\n",
      "  [0.71325718 0.99938507]]\n",
      "\n",
      " [[0.68891612 0.18641787]\n",
      "  [0.83622743 0.4803102 ]\n",
      "  [0.25812765 0.08295719]\n",
      "  [0.01645302 0.91307039]\n",
      "  [0.5105199  0.97398301]]\n",
      "\n",
      " [[0.6393197  0.62973468]\n",
      "  [0.62828704 0.9788194 ]\n",
      "  [0.09226313 0.01256756]\n",
      "  [0.08254066 0.22069339]\n",
      "  [0.80046512 0.37898652]]\n",
      "\n",
      " [[0.81994023 0.23981075]\n",
      "  [0.90359922 0.06160173]\n",
      "  [0.65408884 0.65961885]\n",
      "  [0.3466729  0.65336042]\n",
      "  [0.19981514 0.43868816]]]\n"
     ]
    }
   ],
   "source": [
    "arr = np.random.rand(9, 9, 2)\n",
    "extracted_array = arr[:5, :5, :2]\n",
    "print(extracted_array)"
   ]
  },
  {
   "cell_type": "markdown",
   "metadata": {},
   "source": [
    "Write a code to create a 4*4 array with random values and sort each column."
   ]
  },
  {
   "cell_type": "code",
   "execution_count": 21,
   "metadata": {},
   "outputs": [
    {
     "name": "stdout",
     "output_type": "stream",
     "text": [
      "[[0.05863551 0.57825418 0.17685181 0.47517798]\n",
      " [0.36090828 0.68269853 0.27044038 0.66067313]\n",
      " [0.42677132 0.71727975 0.31909246 0.96458101]\n",
      " [0.43251441 0.88996478 0.56398368 0.97499473]]\n"
     ]
    }
   ],
   "source": [
    "a20 = np.random.random(16).reshape(4, 4)\n",
    "ans20 = np.sort(a20, axis = 0)\n",
    "print(ans20)"
   ]
  }
 ],
 "metadata": {
  "kernelspec": {
   "display_name": "Python 3",
   "language": "python",
   "name": "python3"
  },
  "language_info": {
   "codemirror_mode": {
    "name": "ipython",
    "version": 3
   },
   "file_extension": ".py",
   "mimetype": "text/x-python",
   "name": "python",
   "nbconvert_exporter": "python",
   "pygments_lexer": "ipython3",
   "version": "3.11.6"
  }
 },
 "nbformat": 4,
 "nbformat_minor": 2
}
